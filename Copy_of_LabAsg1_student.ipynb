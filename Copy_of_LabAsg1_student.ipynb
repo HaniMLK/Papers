{
  "nbformat": 4,
  "nbformat_minor": 0,
  "metadata": {
    "colab": {
      "provenance": [],
      "collapsed_sections": [
        "1lL4dSpwUVDA"
      ],
      "include_colab_link": true
    },
    "kernelspec": {
      "name": "python3",
      "display_name": "Python 3"
    },
    "language_info": {
      "name": "python"
    }
  },
  "cells": [
    {
      "cell_type": "markdown",
      "metadata": {
        "id": "view-in-github",
        "colab_type": "text"
      },
      "source": [
        "<a href=\"https://colab.research.google.com/github/HaniMLK/Articles/blob/main/Copy_of_LabAsg1_student.ipynb\" target=\"_parent\"><img src=\"https://colab.research.google.com/assets/colab-badge.svg\" alt=\"Open In Colab\"/></a>"
      ]
    },
    {
      "cell_type": "markdown",
      "source": [
        "# Lab Assignment 1 objectives:\n",
        "\n",
        "\n",
        "*   **Review Python & PyTorch** basics (week 1)\n",
        "*   **Explore 2 WSIs** (loading the images, extract patches with different magnification levels, analyze the patches and understand the challenges related to dealing with pathology data)\n",
        "\n",
        "**Deadline for Moodle submission**: Sunday, february 11th, 2024 (11:59PM). Please paste the shared link of this Google Colab in your lab report. Please submit your lab report as a PDF as well as the notebook (`.ipynb`)."
      ],
      "metadata": {
        "id": "b7CQW-zSS6WL"
      }
    },
    {
      "cell_type": "markdown",
      "source": [
        "## TIAToolBox introduction & installation\n",
        "In this course, we will work with TIAToolbox, a computational pathology toolbox developed by TIA Centre (University of Warwick). Based on PyTorch, this tool provides a complete toolbox for pathology image analysis. The documentation is available on their [GitHub](https://github.com/TissueImageAnalytics/tiatoolbox/tree/develop) and on their [Documentation website](https://tia-toolbox.readthedocs.io/en/latest/installation.html)\n"
      ],
      "metadata": {
        "id": "w8gYJB8kTc5u"
      }
    },
    {
      "cell_type": "markdown",
      "source": [
        "### Setting up the environment"
      ],
      "metadata": {
        "id": "1lL4dSpwUVDA"
      }
    },
    {
      "cell_type": "code",
      "execution_count": null,
      "metadata": {
        "id": "uPr5iacBkmrV",
        "colab": {
          "base_uri": "https://localhost:8080/"
        },
        "outputId": "20eb2dbc-49dc-47e3-cc72-648112bb4b98"
      },
      "outputs": [
        {
          "output_type": "stream",
          "name": "stdout",
          "text": [
            "\r\n",
            "Successfully installed SimpleITK-2.3.1 arrow-1.3.0 asciitree-0.3.3 async-lru-2.0.4 dicomweb-client-0.59.1 fasteners-0.19 flask-cors-4.0.0 fqdn-1.5.1 glymur-0.12.9.post1 imagecodecs-2024.1.1 isoduration-20.11.0 jedi-0.19.1 json5-0.9.14 jsonpointer-2.4 jupyter-client-8.6.0 jupyter-events-0.9.0 jupyter-lsp-2.2.2 jupyter-server-2.12.5 jupyter-server-terminals-0.5.1 jupyterlab-4.0.11 jupyterlab-server-2.25.2 numcodecs-0.12.1 openslide-python-1.3.1 overrides-7.6.0 pandas-2.2.0 pydicom-2.4.4 pynndescent-0.5.11 python-json-logger-2.0.7 pyzmq-25.1.2 retrying-1.3.4 rfc3339-validator-0.1.4 rfc3986-validator-0.1.1 scikit-image-0.22.0 sphinx-7.2.6 tiatoolbox-1.5.1 types-python-dateutil-2.8.19.20240106 tzdata-2023.4 umap-learn-0.5.5 uri-template-1.3.0 wsidicom-0.17.0 zarr-2.16.1\n",
            "Installation is done.\n",
            "deleting tmp directory\n"
          ]
        },
        {
          "output_type": "stream",
          "name": "stderr",
          "text": [
            "  Running command git clone --filter=blob:none --quiet https://github.com/TissueImageAnalytics/tiatoolbox.git /tmp/pip-req-build-6j2y5o25\n",
            "ERROR: pip's dependency resolver does not currently take into account all the packages that are installed. This behaviour is the source of the following dependency conflicts.\n",
            "lida 0.0.10 requires fastapi, which is not installed.\n",
            "lida 0.0.10 requires kaleido, which is not installed.\n",
            "lida 0.0.10 requires python-multipart, which is not installed.\n",
            "lida 0.0.10 requires uvicorn, which is not installed.\n",
            "bigframes 0.19.1 requires pandas<2.1.4,>=1.5.0, but you have pandas 2.2.0 which is incompatible.\n",
            "google-colab 1.0.0 requires pandas==1.5.3, but you have pandas 2.2.0 which is incompatible.\n",
            "notebook 6.5.5 requires jupyter-client<8,>=5.3.4, but you have jupyter-client 8.6.0 which is incompatible.\n",
            "notebook 6.5.5 requires pyzmq<25,>=17, but you have pyzmq 25.1.2 which is incompatible.\n"
          ]
        }
      ],
      "source": [
        "%%bash\n",
        "apt-get -y install libopenjp2-7-dev libopenjp2-tools openslide-tools libpixman-1-dev | tail -n 1\n",
        "pip install git+https://github.com/TissueImageAnalytics/tiatoolbox.git@develop | tail -n 1\n",
        "echo \"Installation is done.\"\n",
        "\n",
        "# now you have to restart the runtime before going further (necessary to load the last version of prerequisitie packages installed with TIATool)\n",
        "\n",
        "# to remove leftovers from previous runs\n",
        "rm -rf tmp\n",
        "echo \"deleting tmp directory\""
      ]
    },
    {
      "cell_type": "code",
      "source": [
        "\"\"\"Import modules required to run the Jupyter notebook.\"\"\"\n",
        "# Clear logger to use tiatoolbox.logger\n",
        "import logging\n",
        "import numpy as np\n",
        "\n",
        "if logging.getLogger().hasHandlers():\n",
        "    logging.getLogger().handlers.clear()\n",
        "\n",
        "# Pretty print for nice dictionary printing\n",
        "from pprint import pprint\n",
        "\n",
        "import matplotlib as mpl\n",
        "import matplotlib.pyplot as plt\n",
        "\n",
        "from tiatoolbox import logger\n",
        "from tiatoolbox.data import small_svs\n",
        "from tiatoolbox.wsicore.wsireader import WSIReader\n",
        "\n",
        "mpl.rcParams[\"figure.dpi\"] = 150  # for high resolution figure in notebook\n",
        "mpl.rcParams[\"figure.facecolor\"] = \"white\"  # To make sure text is visible in dark mode\n",
        "plt.rcParams.update({\"font.size\": 5})"
      ],
      "metadata": {
        "id": "CWksSd3SUdYS",
        "colab": {
          "base_uri": "https://localhost:8080/"
        },
        "outputId": "b3db52cc-177c-4aed-9f0a-46852f36e63b"
      },
      "execution_count": null,
      "outputs": [
        {
          "output_type": "stream",
          "name": "stdout",
          "text": [
            "|2024-01-22|18:50:36.269| [INFO] NumExpr defaulting to 2 threads.\n"
          ]
        }
      ]
    },
    {
      "cell_type": "markdown",
      "source": [
        "### Data loading\n",
        "In this lab, you will study 2 Whole Slide Images (WSIs) which come from 2 different datasets. The first one comes from a private dataset of a hospital in Ontario and the second one comes from [Camelyon16](https://camelyon16.grand-challenge.org)"
      ],
      "metadata": {
        "id": "uB2UD9u0XBHn"
      }
    },
    {
      "cell_type": "code",
      "source": [
        "#mount drive\n",
        "from google.colab import drive\n",
        "drive.mount('/content/drive/')"
      ],
      "metadata": {
        "id": "wZOY9Fwab8B2"
      },
      "execution_count": null,
      "outputs": []
    },
    {
      "cell_type": "markdown",
      "source": [
        "## WSI exploration"
      ],
      "metadata": {
        "id": "Ztz9RRK7WzP2"
      }
    },
    {
      "cell_type": "code",
      "source": [
        "# download the slides"
      ],
      "metadata": {
        "id": "LoxTG8oWW6iX"
      },
      "execution_count": null,
      "outputs": []
    },
    {
      "cell_type": "markdown",
      "source": [
        "### Question 1: WSI meta-data and pyramid"
      ],
      "metadata": {
        "id": "NUwltQByy3hE"
      }
    },
    {
      "cell_type": "code",
      "source": [
        "# write code here to display all the information using TIAToolbox WSIreader"
      ],
      "metadata": {
        "id": "oGJh2MkiQlos"
      },
      "execution_count": null,
      "outputs": []
    },
    {
      "cell_type": "markdown",
      "source": [
        "### Question 2: display a thumbnail of the images"
      ],
      "metadata": {
        "id": "ZKH8Ni6-XVdN"
      }
    },
    {
      "cell_type": "code",
      "source": [
        "# write code here to display the image using the thumbnail tool of TIAToolbox"
      ],
      "metadata": {
        "id": "0SqIqnD3WxCp"
      },
      "execution_count": null,
      "outputs": []
    },
    {
      "cell_type": "markdown",
      "source": [
        "## Tissue masking and patch extraction"
      ],
      "metadata": {
        "id": "5qzoLXOhXjvQ"
      }
    },
    {
      "cell_type": "markdown",
      "source": [
        "In this part, you have to work on the WSI from **stomach**."
      ],
      "metadata": {
        "id": "NSbhO42iXoKj"
      }
    },
    {
      "cell_type": "markdown",
      "source": [
        "### Question 3: display the tissue mask of the WSI at level 1"
      ],
      "metadata": {
        "id": "qzUO9zxXXuQP"
      }
    },
    {
      "cell_type": "code",
      "source": [
        "# write code here to apply tissue masking on the stomach slide"
      ],
      "metadata": {
        "id": "RjkgkozRZyyc"
      },
      "execution_count": null,
      "outputs": []
    },
    {
      "cell_type": "markdown",
      "source": [
        "### Question 4: patch extraction and background removal"
      ],
      "metadata": {
        "id": "BgRXu27-X6HO"
      }
    },
    {
      "cell_type": "code",
      "source": [
        "# result should be of type\n",
        "PATCH_SIZE = #\n",
        "OVERLAP = #\n",
        "LEVEL = #\n",
        "\n",
        "# write code here to extract patches using TIAToolbox"
      ],
      "metadata": {
        "id": "WtwEMDcPYDSO"
      },
      "execution_count": null,
      "outputs": []
    },
    {
      "cell_type": "code",
      "source": [
        "# write code here to display some patches for both levels"
      ],
      "metadata": {
        "id": "lYbk9TyIatB9"
      },
      "execution_count": null,
      "outputs": []
    },
    {
      "cell_type": "markdown",
      "source": [
        "### Question 5 : save only tissue patches"
      ],
      "metadata": {
        "id": "9-7eAYJjeSg2"
      }
    },
    {
      "cell_type": "markdown",
      "source": [
        "There is not a unique way to proceed! It is an open-question! You should reshape them to 100x100 so they occupy less space in memory!"
      ],
      "metadata": {
        "id": "irc5htGeojQv"
      }
    },
    {
      "cell_type": "code",
      "source": [],
      "metadata": {
        "id": "lGJxuGyKhU0h"
      },
      "execution_count": null,
      "outputs": []
    },
    {
      "cell_type": "markdown",
      "source": [
        "## Using the Regions of Interest (ROI) annotations"
      ],
      "metadata": {
        "id": "wG222CSUhV4-"
      }
    },
    {
      "cell_type": "markdown",
      "source": [
        "The annotations have been made using [SlideVault tools](https://slidevault.hurondigitalpathology.com/#/) and have been extracted under XML files [here](https://drive.google.com/drive/folders/10ny1-0LSftxEMKDe58JFRXxrPA718IQR?usp=sharing)\n",
        "Please note that there is a disrepancy between SlideVault axes and TIAToolbox axes. If SlideVault origin is located at the bottom left corner, TIAToolbox origin is the top left corner. Therefore, you may run the following code `manage_coordinates` on the coordinates of the annotations to adapt the X coordinates."
      ],
      "metadata": {
        "id": "cHytj6zahpLr"
      }
    },
    {
      "cell_type": "code",
      "source": [
        "def manage_coordinates(all_coordinates, slide):\n",
        "  info_slide = slide.info.as_dict()\n",
        "  h = info_slide['slide_dimensions'][1]\n",
        "  for k in range(all_coordinates.shape[0]):\n",
        "      all_coordinates[k][1],all_coordinates[k][3]=h-all_coordinates[k][1],h-all_coordinates[k][3]\n",
        "  return all_coordinates"
      ],
      "metadata": {
        "id": "CzNkoXFdixdi"
      },
      "execution_count": null,
      "outputs": []
    },
    {
      "cell_type": "markdown",
      "source": [
        "### Question 6: extract patches from the ROIs of the 5 WSIs"
      ],
      "metadata": {
        "id": "hft9zUhRhbTA"
      }
    },
    {
      "cell_type": "markdown",
      "source": [
        "For this question, you are highly encouraged to use `shapely`, a Python module to handle manipulation and analysis of geometric objects."
      ],
      "metadata": {
        "id": "VZJ_GvXD4lMM"
      }
    },
    {
      "cell_type": "code",
      "source": [
        "from shapely.geometry import Point, Polygon\n",
        "\n",
        "# write code here"
      ],
      "metadata": {
        "id": "_MQJzpOZha4A"
      },
      "execution_count": null,
      "outputs": []
    },
    {
      "cell_type": "markdown",
      "source": [
        "### Question 7: display some patches to highlight the different tissues"
      ],
      "metadata": {
        "id": "k1puyx93jsyi"
      }
    },
    {
      "cell_type": "code",
      "source": [],
      "metadata": {
        "id": "0kgMS05Y5L9m"
      },
      "execution_count": null,
      "outputs": []
    },
    {
      "cell_type": "markdown",
      "source": [
        "### Question 8: analysis in the RGB space\n",
        "\n",
        "For questions 8 and 9, you have to use the **pancreatic patches** you extracted in question 6.\n",
        "\n",
        "You have to treat each patch as a RGB datapoint : for each patch, extract the mean over the 3 channels and plot 3 histograms as well as 3-D scatter plot for these\n",
        "values across all patches"
      ],
      "metadata": {
        "id": "3MKc6T8W5BoT"
      }
    },
    {
      "cell_type": "code",
      "source": [
        "# write code here to analyze the colours of the patches in the RGB space"
      ],
      "metadata": {
        "id": "6pFtgJXBjsWg"
      },
      "execution_count": null,
      "outputs": []
    },
    {
      "cell_type": "markdown",
      "source": [
        "### Question 9: projection the patches to HSV and LaB space and display some examples. Repeat question 8 in the Lab space."
      ],
      "metadata": {
        "id": "t092urP0j55N"
      }
    },
    {
      "cell_type": "markdown",
      "source": [
        "Project the pancreas patches to the Lab colour space"
      ],
      "metadata": {
        "id": "8cyDnAb7j-Rn"
      }
    },
    {
      "cell_type": "code",
      "source": [],
      "metadata": {
        "id": "-ruirJbFj5k2"
      },
      "execution_count": null,
      "outputs": []
    },
    {
      "cell_type": "markdown",
      "source": [
        "Project the pancreas patches to the HSV colour space and repeat question 8"
      ],
      "metadata": {
        "id": "VlfHaxJ25wvE"
      }
    },
    {
      "cell_type": "code",
      "source": [],
      "metadata": {
        "id": "b31WApHO5zrr"
      },
      "execution_count": null,
      "outputs": []
    },
    {
      "cell_type": "markdown",
      "source": [
        "### Question 10: Focus Quality Assessment check\n",
        "\n",
        "Using a Laplacian filter on the skin WSI, provide a visual representation/color heatmap for out-of-focus quality for this WSI."
      ],
      "metadata": {
        "id": "cZV4zCxJhg7Q"
      }
    },
    {
      "cell_type": "code",
      "source": [
        "# this is an open question and we will take into account all the steps you take"
      ],
      "metadata": {
        "id": "_Mw4CR-xhn4E"
      },
      "execution_count": null,
      "outputs": []
    }
  ]
}